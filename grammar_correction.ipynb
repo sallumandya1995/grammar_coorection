{
  "nbformat": 4,
  "nbformat_minor": 0,
  "metadata": {
    "colab": {
      "provenance": [],
      "include_colab_link": true
    },
    "kernelspec": {
      "name": "python3",
      "display_name": "Python 3"
    },
    "language_info": {
      "name": "python"
    }
  },
  "cells": [
    {
      "cell_type": "markdown",
      "metadata": {
        "id": "view-in-github",
        "colab_type": "text"
      },
      "source": [
        "<a href=\"https://colab.research.google.com/github/sallumandya1995/grammar_coorection/blob/main/grammar_correction.ipynb\" target=\"_parent\"><img src=\"https://colab.research.google.com/assets/colab-badge.svg\" alt=\"Open In Colab\"/></a>"
      ]
    },
    {
      "cell_type": "code",
      "execution_count": null,
      "metadata": {
        "id": "R2-fnKbNbh6f"
      },
      "outputs": [],
      "source": [
        "# githubtocolab.com"
      ]
    },
    {
      "cell_type": "code",
      "source": [
        "#step 1\n",
        "# !pip install happytransformer\n",
        "from happytransformer import HappyTextToText, TTSettings\n",
        "\n",
        "happy_tt = HappyTextToText(\"T5\", \"vennify/t5-base-grammar-correction\")\n",
        "\n",
        "# happy_tt = HappyTextToText(\"T5\", \"prithivida/grammar_error_correcter_v1\")\n",
        "\n",
        "args = TTSettings(num_beams=5, min_length=1)\n",
        "\n",
        "# Add the prefix \"grammar: \" before each input \n",
        "result = happy_tt.generate_text(input(), args=args)\n",
        "\n",
        "print(result.text) # This sentence has bad grammar.\n"
      ],
      "metadata": {
        "id": "tPcRYKMUUnPA"
      },
      "execution_count": null,
      "outputs": []
    },
    {
      "cell_type": "code",
      "source": [
        "#step 2\n",
        "\n",
        "import nltk\n",
        "nltk.download('wordnet')\n",
        "nltk.download('omw-1.4')\n",
        "\n",
        "import nltk\n",
        "from nltk.corpus import wordnet\n",
        "\n",
        "def grammar_corrector(word):\n",
        "  synonyms = []\n",
        "  for syn in wordnet.synsets(word):\n",
        "    for lemma in syn.lemmas():\n",
        "      synonyms.append(lemma.name())\n",
        "  if len(synonyms) > 0:\n",
        "    return synonyms[0]\n",
        "  else:\n",
        "    return word\n",
        "\n",
        "print(grammar_corrector(input())) # write"
      ],
      "metadata": {
        "id": "MXe70pBQUUHB"
      },
      "execution_count": null,
      "outputs": []
    },
    {
      "cell_type": "code",
      "source": [
        "\n",
        "import nltk\n",
        "nltk.download('punkt')\n",
        "nltk.download('averaged_perceptron_tagger')\n",
        "# Load the required text processing libraries\n",
        "from nltk.tokenize import word_tokenize\n",
        "from nltk.tag import pos_tag\n",
        "\n",
        " "
      ],
      "metadata": {
        "id": "9FpN1i-EZ4wl"
      },
      "execution_count": null,
      "outputs": []
    },
    {
      "cell_type": "code",
      "source": [
        "##step 3\n",
        "\n",
        "# Define the sentence to be corrected\n",
        "sentence = input()\n",
        "\n",
        "# Tokenize the sentence\n",
        "tokenized_sent = word_tokenize(sentence)\n",
        "\n",
        "# Tag each tokenized word with its part of speech\n",
        "tagged_sent = pos_tag(tokenized_sent)\n",
        "\n",
        "# Correct the sentence based on the part of speech tags\n",
        "corrected_sent = []\n",
        "for word in tagged_sent:\n",
        "    if word[1] == 'VBG':\n",
        "        corrected_sent.append('been')\n",
        "    else:\n",
        "        corrected_sent.append(word[0])\n",
        "\n",
        "# Print the corrected sentence\n",
        "print(' '.join(corrected_sent))"
      ],
      "metadata": {
        "id": "xMnFAuEgaEch"
      },
      "execution_count": null,
      "outputs": []
    }
  ]
}